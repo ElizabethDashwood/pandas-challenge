# Dependencies and Setup
from pathlib import Path
import pandas as pd

# File to Load (Remember to Change These)
school_data_to_load = Path("Resources/schools_complete.csv")
student_data_to_load = Path("Resources/students_complete.csv")

# Read School and Student Data File and store into Pandas DataFrames
school_data = pd.read_csv(school_data_to_load)
student_data = pd.read_csv(student_data_to_load)

# Combine the data into a single dataset.
school_data_complete = pd.merge(student_data, school_data, how="left", on=["school_name", "school_name"])

school_data_complete


school_data.head(15)


# Calculate the Totals (Schools and Students)
school_count = (school_data["School ID"].max() + 1)
student_count = (student_data["Student ID"].max() + 1)

# Calculate the Total Budget
total_budget = school_data["budget"].sum()



school_count


student_count


total_budget


# Calculate the Average Scores
average_maths_score = school_data_complete["maths_score"].mean()
average_reading_score = school_data_complete["reading_score"].mean()


average_maths_score


average_reading_score


# Calculate the Percentage Pass Rates
passing_maths_count = school_data_complete[(school_data_complete["maths_score"] >= 50)].count()["student_name"]
passing_maths_percentage = passing_maths_count / float(student_count) * 100
passing_reading_count = school_data_complete[(school_data_complete["reading_score"] >= 50)].count()["student_name"]
passing_reading_percentage = passing_reading_count / float(student_count) * 100

passing_maths_reading_count = school_data_complete[(school_data_complete["maths_score"] >= 50) &  
                             (school_data_complete["reading_score"] >= 50)].count()["student_name"]

overall_passing_rate = passing_maths_reading_count / float(student_count) * 100


 type(passing_maths_count)


type(student_count)


type(school_data)


passing_maths_count


passing_maths_percentage


passing_reading_count


passing_reading_percentage


passing_maths_reading_count


overall_passing_rate


# Convert to DataFrame
lga_dicts = {'Total Schools': [school_count],
             'Total Students': [student_count],
             'Total Budget': [total_budget],
             'Average Maths Score': [average_maths_score],
             'Average Reading Score': [average_reading_score],
             '% Passing Maths': [passing_maths_percentage],
             '% Passing Reading': [passing_reading_percentage],
             '% Overall Passing': [overall_passing_rate]}

area_summary = pd.DataFrame(lga_dicts)

# Formatting
area_summary["Total Students"] = area_summary["Total Students"].map("{:,}".format)
area_summary["Total Budget"] = area_summary["Total Budget"].map("${:,.2f}".format)
#area_summary["Average Maths Score"] = area_summary["Average Maths Score"].map("{:,.6f}".format)
#area_summary["Average Reading Score"] = area_summary["Average Reading Score"].map("{:,.6f}".format)

# Display the DataFrame
area_summary



area_summary = pd.DataFrame({'Total Schools': [school_count],
             'Total Students': [student_count],
             'Total Budget': [total_budget],
             'Average Maths Score': [average_maths_score],
             'Average Reading Score': [average_reading_score],
             '% Passing Maths': [passing_maths_percentage],
             '% Passing Reading': [passing_reading_percentage],
             '% Overall Passing': [overall_passing_rate]})

area_summary["Total Students"] = area_summary["Total Students"].map("{:,}".format)
area_summary["Total Budget"] = area_summary["Total Budget"].map("${:,.2f}".format)

area_summary


area
