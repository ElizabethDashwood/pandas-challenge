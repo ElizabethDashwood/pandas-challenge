# Dependencies and Setup
from pathlib import Path
import pandas as pd

# File to Load (Remember to Change These)
school_data_to_load = Path("Resources/schools_complete.csv")
student_data_to_load = Path("Resources/students_complete.csv")

# Read School and Student Data File and store into Pandas DataFrames
school_data = pd.read_csv(school_data_to_load)
student_data = pd.read_csv(student_data_to_load)

# Combine the data into a single dataset.
school_data_complete = pd.merge(student_data, school_data, how="left", on=["school_name", "school_name"])

school_data_complete


#LOCAL GOVERNMENT AREA SUMMARY


school_data.head(15)


# Calculate the Totals (Schools and Students)
school_count = (school_data["School ID"].max() + 1)
student_count = (student_data["Student ID"].max() + 1)

# Calculate the Total Budget
total_budget = school_data["budget"].sum()



school_count


student_count


total_budget


# Calculate the Average Scores
average_maths_score = school_data_complete["maths_score"].mean()
average_reading_score = school_data_complete["reading_score"].mean()


average_maths_score


average_reading_score


# Calculate the Percentage Pass Rates
passing_maths_count = school_data_complete[(school_data_complete["maths_score"] >= 50)].count()["student_name"]
passing_maths_percentage = passing_maths_count / float(student_count) * 100
passing_reading_count = school_data_complete[(school_data_complete["reading_score"] >= 50)].count()["student_name"]
passing_reading_percentage = passing_reading_count / float(student_count) * 100

passing_maths_reading_count = school_data_complete[(school_data_complete["maths_score"] >= 50) &  
                             (school_data_complete["reading_score"] >= 50)].count()["student_name"]

overall_passing_rate = passing_maths_reading_count / float(student_count) * 100


passing_maths_count


passing_maths_percentage


passing_reading_count


passing_reading_percentage


passing_maths_reading_count


overall_passing_rate


# Convert to DataFrame
area_summary = pd.DataFrame({'Total Schools': [school_count],
             'Total Students': [student_count],
             'Total Budget': [total_budget],
             'Average Maths Score': [average_maths_score],
             'Average Reading Score': [average_reading_score],
             '% Passing Maths': [passing_maths_percentage],
             '% Passing Reading': [passing_reading_percentage],
             '% Overall Passing': [overall_passing_rate]})

# Formatting
area_summary["Total Students"] = area_summary["Total Students"].map("{:,}".format)
area_summary["Total Budget"] = area_summary["Total Budget"].map("${:,.2f}".format)

# Display the DataFrame
area_summary


# SCHOOL SUMMARY


# Use the code provided to select the type per school from school_data
school_types = school_data.set_index(["school_name"])["type"]

# Calculate the total student count per school from school_data
per_school_counts = school_data.set_index(["school_name"])["size"]

# Calculate the total school budget and per capita spending per school from school_data
per_school_budget = school_data.set_index(["school_name"])["budget"]
per_school_capita = school_data.set_index(["school_name"])["budget"] / school_data.set_index(["school_name"])["size"]

# Calculate the average test scores per school from school_data_complete
school_data_group = school_data_complete.groupby(["school_name"])
per_school_maths = school_data_group["maths_score"].mean()
per_school_reading = school_data_group["reading_score"].mean()




school_types


per_school_counts 


per_school_budget


per_school_capita


school_data_group.count().head(10)


per_school_maths


per_school_reading


# Get the students who passed maths and passed reading by creating separate filtered DataFrames from school_data_complete.
school_passing_maths = school_data_complete.loc[(school_data_complete["maths_score"] >= 50), :]
school_passing_reading = school_data_complete.loc[(school_data_complete["reading_score"] >= 50), :]

# Get the students who passed both reading and maths in a separate DataFrame from school_data_complete.
passing_maths_and_reading = school_data_complete.loc[(school_data_complete["maths_score"] >= 50) &
                                                    (school_data_complete["reading_score"] >= 50), :]



school_passing_maths.count()


school_passing_reading.count()


passing_maths_and_reading.count()


#  Calculate the Percentage Pass Rates
per_school_passing_maths = school_passing_maths.groupby(["school_name"])
print(per_school_passing_maths)

per_school_passing_maths.count().head(15)

#per_school_passing_reading =
#overall_passing_rate =


# Get the students who passed maths and passed reading by creating separate filtered DataFrames from school_data_complete.
#school_passing_maths = school_data_group["maths_score"] >= 50].count()["student_name"]
#school_passing_reading = s\school_data_group["reading_score"] >= 50].count()["student_name"]
#students_passing_maths = school_data_complete[(school_data_complete["maths_score"] >= 50)]
#school_passing_maths_group = students_passing_maths.groupby("school_name")
#school_passing_maths = pd.DataFrame(school_passing_maths_group[["maths_score"]].count())

students_passing_reading = school_data_complete[(school_data_complete["reading_score"] >= 50)]
school_passing_reading_group = students_passing_reading.groupby("school_name")
school_passing_reading = pd.DataFrame(school_passing_reading_group[["reading_score"]].count())

# Get the students who passed both reading and maths in a separate DataFrame from school_data_complete.
#passing_maths_and_reading =


school_passing_maths_group.count().head(15)


school_passing_reading_group.count().head(10)

school_passing_maths


school_passing_reading


#  Calculate the Percentage Pass Rates

per_school_passing_maths=
#per_school_passing_reading = 
#overall_passing_rate = 
#school_passing_maths_group


# Convert to DataFrame
per_school_summary = pd.DataFrame({
             'school_name': ['Huang High School','Figueroa High School','Shelton High School','Hernandez High School','Griffin High School','Wilson High School','Cabrera High School',
                             'Bailey High School','Holden High School','Pena High School','Wright High School','Rodriguez High School','Johnson High School',
                             'Ford High School','Thomas High School'],
             'School Type': ['Government','Government','Independent','Government','Independent','Independent','Independent','Government','Independent','Independent',
                            'Independent','Government','Government','Government','Independent']})
             #'Total Students': [
             #'Total School Budget': [per_school_budget],
             #'Per Student Budget': [per_school_capita]})                       
             

# Formatting
#per_school_summary["Total School Budget"] = per_school_summary["Total School Budget"].map("${:,.2f}".format)
#per_school_summary["Per Student Budget"] = per_school_summary["Per Student Budget"].map("${:,.2f}".format)

# Display the DataFrame
per_school_summary


area_summary = pd.DataFrame({'Total Schools': [school_count],
             'Total Students': [student_count],
             'Total Budget': [total_budget],
             'Average Maths Score': [average_maths_score],
             'Average Reading Score': [average_reading_score],
             '% Passing Maths': [passing_maths_percentage],
             '% Passing Reading': [passing_reading_percentage],
             '% Overall Passing': [overall_passing_rate]})

# Formatting
area_summary["Total Students"] = area_summary["Total Students"].map("{:,}".format)
area_summary["Total Budget"] = area_summary["Total Budget"].map("${:,.2f}".format)

# Display the DataFrame
area_summary
