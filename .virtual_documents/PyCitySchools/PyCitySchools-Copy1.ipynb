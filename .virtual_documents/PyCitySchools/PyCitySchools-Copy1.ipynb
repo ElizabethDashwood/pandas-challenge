# Dependencies and Setup
from pathlib import Path
import pandas as pd

# File to Load (Remember to Change These)
school_data_to_load = Path("Resources/schools_complete.csv")
student_data_to_load = Path("Resources/students_complete.csv")

# Read School and Student Data File and store into Pandas DataFrames
school_data = pd.read_csv(school_data_to_load)
student_data = pd.read_csv(student_data_to_load)

# Combine the data into a single dataset.
school_data_complete = pd.merge(student_data, school_data, how="left", on=["school_name", "school_name"])

school_data_complete


school_data.head(15)


# Calculate the Totals (Schools and Students)
school_count = school_data["School ID"].value_counts()
student_count = school_data_complete["school_name"].value_counts()

# Calculate the Total Budget
total_budget = school_data_complete["budget"].sum()



school_count


student_count


total_budget


# Calculate the Average Scores
average_maths_score = school_data_complete["maths_score"].mean()
average_reading_score = school_data_complete["reading_score"].mean()


average_maths_score


average_reading_score


# Calculate the Percentage Pass Rates
passing_maths_count = school_data_complete[(school_data_complete["maths_score"] >= 50)].count()["student_name"]
passing_maths_percentage = passing_maths_count / float(student_count) * 100
passing_reading_count = 
passing_reading_percentage =

passing_maths_reading_count =

overall_passing_rate =


passing_maths_count



