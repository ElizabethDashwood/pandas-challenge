{
 "cells": [
  {
   "cell_type": "code",
   "execution_count": 30,
   "id": "be9d67b6-ca33-4c2a-912a-33a52c1790f9",
   "metadata": {
    "editable": true,
    "slideshow": {
     "slide_type": ""
    },
    "tags": []
   },
   "outputs": [
    {
     "data": {
      "text/html": [
       "<div>\n",
       "<style scoped>\n",
       "    .dataframe tbody tr th:only-of-type {\n",
       "        vertical-align: middle;\n",
       "    }\n",
       "\n",
       "    .dataframe tbody tr th {\n",
       "        vertical-align: top;\n",
       "    }\n",
       "\n",
       "    .dataframe thead th {\n",
       "        text-align: right;\n",
       "    }\n",
       "</style>\n",
       "<table border=\"1\" class=\"dataframe\">\n",
       "  <thead>\n",
       "    <tr style=\"text-align: right;\">\n",
       "      <th></th>\n",
       "      <th>Student ID</th>\n",
       "      <th>student_name</th>\n",
       "      <th>gender</th>\n",
       "      <th>year</th>\n",
       "      <th>school_name</th>\n",
       "      <th>reading_score</th>\n",
       "      <th>maths_score</th>\n",
       "      <th>School ID</th>\n",
       "      <th>type</th>\n",
       "      <th>size</th>\n",
       "      <th>budget</th>\n",
       "    </tr>\n",
       "  </thead>\n",
       "  <tbody>\n",
       "    <tr>\n",
       "      <th>0</th>\n",
       "      <td>0</td>\n",
       "      <td>Paul Bradley</td>\n",
       "      <td>M</td>\n",
       "      <td>9</td>\n",
       "      <td>Huang High School</td>\n",
       "      <td>96</td>\n",
       "      <td>94</td>\n",
       "      <td>0</td>\n",
       "      <td>Government</td>\n",
       "      <td>2917</td>\n",
       "      <td>1910635</td>\n",
       "    </tr>\n",
       "    <tr>\n",
       "      <th>1</th>\n",
       "      <td>1</td>\n",
       "      <td>Victor Smith</td>\n",
       "      <td>M</td>\n",
       "      <td>12</td>\n",
       "      <td>Huang High School</td>\n",
       "      <td>90</td>\n",
       "      <td>43</td>\n",
       "      <td>0</td>\n",
       "      <td>Government</td>\n",
       "      <td>2917</td>\n",
       "      <td>1910635</td>\n",
       "    </tr>\n",
       "    <tr>\n",
       "      <th>2</th>\n",
       "      <td>2</td>\n",
       "      <td>Kevin Rodriguez</td>\n",
       "      <td>M</td>\n",
       "      <td>12</td>\n",
       "      <td>Huang High School</td>\n",
       "      <td>41</td>\n",
       "      <td>76</td>\n",
       "      <td>0</td>\n",
       "      <td>Government</td>\n",
       "      <td>2917</td>\n",
       "      <td>1910635</td>\n",
       "    </tr>\n",
       "    <tr>\n",
       "      <th>3</th>\n",
       "      <td>3</td>\n",
       "      <td>Richard Scott</td>\n",
       "      <td>M</td>\n",
       "      <td>12</td>\n",
       "      <td>Huang High School</td>\n",
       "      <td>89</td>\n",
       "      <td>86</td>\n",
       "      <td>0</td>\n",
       "      <td>Government</td>\n",
       "      <td>2917</td>\n",
       "      <td>1910635</td>\n",
       "    </tr>\n",
       "    <tr>\n",
       "      <th>4</th>\n",
       "      <td>4</td>\n",
       "      <td>Bonnie Ray</td>\n",
       "      <td>F</td>\n",
       "      <td>9</td>\n",
       "      <td>Huang High School</td>\n",
       "      <td>87</td>\n",
       "      <td>69</td>\n",
       "      <td>0</td>\n",
       "      <td>Government</td>\n",
       "      <td>2917</td>\n",
       "      <td>1910635</td>\n",
       "    </tr>\n",
       "    <tr>\n",
       "      <th>...</th>\n",
       "      <td>...</td>\n",
       "      <td>...</td>\n",
       "      <td>...</td>\n",
       "      <td>...</td>\n",
       "      <td>...</td>\n",
       "      <td>...</td>\n",
       "      <td>...</td>\n",
       "      <td>...</td>\n",
       "      <td>...</td>\n",
       "      <td>...</td>\n",
       "      <td>...</td>\n",
       "    </tr>\n",
       "    <tr>\n",
       "      <th>39165</th>\n",
       "      <td>39165</td>\n",
       "      <td>Donna Howard</td>\n",
       "      <td>F</td>\n",
       "      <td>12</td>\n",
       "      <td>Thomas High School</td>\n",
       "      <td>51</td>\n",
       "      <td>48</td>\n",
       "      <td>14</td>\n",
       "      <td>Independent</td>\n",
       "      <td>1635</td>\n",
       "      <td>1043130</td>\n",
       "    </tr>\n",
       "    <tr>\n",
       "      <th>39166</th>\n",
       "      <td>39166</td>\n",
       "      <td>Dawn Bell</td>\n",
       "      <td>F</td>\n",
       "      <td>10</td>\n",
       "      <td>Thomas High School</td>\n",
       "      <td>81</td>\n",
       "      <td>89</td>\n",
       "      <td>14</td>\n",
       "      <td>Independent</td>\n",
       "      <td>1635</td>\n",
       "      <td>1043130</td>\n",
       "    </tr>\n",
       "    <tr>\n",
       "      <th>39167</th>\n",
       "      <td>39167</td>\n",
       "      <td>Rebecca Tanner</td>\n",
       "      <td>F</td>\n",
       "      <td>9</td>\n",
       "      <td>Thomas High School</td>\n",
       "      <td>99</td>\n",
       "      <td>99</td>\n",
       "      <td>14</td>\n",
       "      <td>Independent</td>\n",
       "      <td>1635</td>\n",
       "      <td>1043130</td>\n",
       "    </tr>\n",
       "    <tr>\n",
       "      <th>39168</th>\n",
       "      <td>39168</td>\n",
       "      <td>Desiree Kidd</td>\n",
       "      <td>F</td>\n",
       "      <td>10</td>\n",
       "      <td>Thomas High School</td>\n",
       "      <td>72</td>\n",
       "      <td>77</td>\n",
       "      <td>14</td>\n",
       "      <td>Independent</td>\n",
       "      <td>1635</td>\n",
       "      <td>1043130</td>\n",
       "    </tr>\n",
       "    <tr>\n",
       "      <th>39169</th>\n",
       "      <td>39169</td>\n",
       "      <td>Carolyn Jackson</td>\n",
       "      <td>F</td>\n",
       "      <td>11</td>\n",
       "      <td>Thomas High School</td>\n",
       "      <td>47</td>\n",
       "      <td>62</td>\n",
       "      <td>14</td>\n",
       "      <td>Independent</td>\n",
       "      <td>1635</td>\n",
       "      <td>1043130</td>\n",
       "    </tr>\n",
       "  </tbody>\n",
       "</table>\n",
       "<p>39170 rows × 11 columns</p>\n",
       "</div>"
      ],
      "text/plain": [
       "       Student ID     student_name gender  year         school_name  \\\n",
       "0               0     Paul Bradley      M     9   Huang High School   \n",
       "1               1     Victor Smith      M    12   Huang High School   \n",
       "2               2  Kevin Rodriguez      M    12   Huang High School   \n",
       "3               3    Richard Scott      M    12   Huang High School   \n",
       "4               4       Bonnie Ray      F     9   Huang High School   \n",
       "...           ...              ...    ...   ...                 ...   \n",
       "39165       39165     Donna Howard      F    12  Thomas High School   \n",
       "39166       39166        Dawn Bell      F    10  Thomas High School   \n",
       "39167       39167   Rebecca Tanner      F     9  Thomas High School   \n",
       "39168       39168     Desiree Kidd      F    10  Thomas High School   \n",
       "39169       39169  Carolyn Jackson      F    11  Thomas High School   \n",
       "\n",
       "       reading_score  maths_score  School ID         type  size   budget  \n",
       "0                 96           94          0   Government  2917  1910635  \n",
       "1                 90           43          0   Government  2917  1910635  \n",
       "2                 41           76          0   Government  2917  1910635  \n",
       "3                 89           86          0   Government  2917  1910635  \n",
       "4                 87           69          0   Government  2917  1910635  \n",
       "...              ...          ...        ...          ...   ...      ...  \n",
       "39165             51           48         14  Independent  1635  1043130  \n",
       "39166             81           89         14  Independent  1635  1043130  \n",
       "39167             99           99         14  Independent  1635  1043130  \n",
       "39168             72           77         14  Independent  1635  1043130  \n",
       "39169             47           62         14  Independent  1635  1043130  \n",
       "\n",
       "[39170 rows x 11 columns]"
      ]
     },
     "execution_count": 30,
     "metadata": {},
     "output_type": "execute_result"
    }
   ],
   "source": [
    "# Dependencies and Setup\n",
    "from pathlib import Path\n",
    "import pandas as pd\n",
    "\n",
    "# File to Load (Remember to Change These)\n",
    "school_data_to_load = Path(\"Resources/schools_complete.csv\")\n",
    "student_data_to_load = Path(\"Resources/students_complete.csv\")\n",
    "\n",
    "# Read School and Student Data File and store into Pandas DataFrames\n",
    "school_data = pd.read_csv(school_data_to_load)\n",
    "student_data = pd.read_csv(student_data_to_load)\n",
    "\n",
    "# Combine the data into a single dataset.\n",
    "school_data_complete = pd.merge(student_data, school_data, how=\"left\", on=[\"school_name\", \"school_name\"])\n",
    "\n",
    "school_data_complete"
   ]
  },
  {
   "cell_type": "code",
   "execution_count": 35,
   "id": "146d1cc0-ab16-45e8-bfc6-26a86282fa85",
   "metadata": {},
   "outputs": [
    {
     "data": {
      "text/html": [
       "<div>\n",
       "<style scoped>\n",
       "    .dataframe tbody tr th:only-of-type {\n",
       "        vertical-align: middle;\n",
       "    }\n",
       "\n",
       "    .dataframe tbody tr th {\n",
       "        vertical-align: top;\n",
       "    }\n",
       "\n",
       "    .dataframe thead th {\n",
       "        text-align: right;\n",
       "    }\n",
       "</style>\n",
       "<table border=\"1\" class=\"dataframe\">\n",
       "  <thead>\n",
       "    <tr style=\"text-align: right;\">\n",
       "      <th></th>\n",
       "      <th>School ID</th>\n",
       "      <th>school_name</th>\n",
       "      <th>type</th>\n",
       "      <th>size</th>\n",
       "      <th>budget</th>\n",
       "    </tr>\n",
       "  </thead>\n",
       "  <tbody>\n",
       "    <tr>\n",
       "      <th>0</th>\n",
       "      <td>0</td>\n",
       "      <td>Huang High School</td>\n",
       "      <td>Government</td>\n",
       "      <td>2917</td>\n",
       "      <td>1910635</td>\n",
       "    </tr>\n",
       "    <tr>\n",
       "      <th>1</th>\n",
       "      <td>1</td>\n",
       "      <td>Figueroa High School</td>\n",
       "      <td>Government</td>\n",
       "      <td>2949</td>\n",
       "      <td>1884411</td>\n",
       "    </tr>\n",
       "    <tr>\n",
       "      <th>2</th>\n",
       "      <td>2</td>\n",
       "      <td>Shelton High School</td>\n",
       "      <td>Independent</td>\n",
       "      <td>1761</td>\n",
       "      <td>1056600</td>\n",
       "    </tr>\n",
       "    <tr>\n",
       "      <th>3</th>\n",
       "      <td>3</td>\n",
       "      <td>Hernandez High School</td>\n",
       "      <td>Government</td>\n",
       "      <td>4635</td>\n",
       "      <td>3022020</td>\n",
       "    </tr>\n",
       "    <tr>\n",
       "      <th>4</th>\n",
       "      <td>4</td>\n",
       "      <td>Griffin High School</td>\n",
       "      <td>Independent</td>\n",
       "      <td>1468</td>\n",
       "      <td>917500</td>\n",
       "    </tr>\n",
       "    <tr>\n",
       "      <th>5</th>\n",
       "      <td>5</td>\n",
       "      <td>Wilson High School</td>\n",
       "      <td>Independent</td>\n",
       "      <td>2283</td>\n",
       "      <td>1319574</td>\n",
       "    </tr>\n",
       "    <tr>\n",
       "      <th>6</th>\n",
       "      <td>6</td>\n",
       "      <td>Cabrera High School</td>\n",
       "      <td>Independent</td>\n",
       "      <td>1858</td>\n",
       "      <td>1081356</td>\n",
       "    </tr>\n",
       "    <tr>\n",
       "      <th>7</th>\n",
       "      <td>7</td>\n",
       "      <td>Bailey High School</td>\n",
       "      <td>Government</td>\n",
       "      <td>4976</td>\n",
       "      <td>3124928</td>\n",
       "    </tr>\n",
       "    <tr>\n",
       "      <th>8</th>\n",
       "      <td>8</td>\n",
       "      <td>Holden High School</td>\n",
       "      <td>Independent</td>\n",
       "      <td>427</td>\n",
       "      <td>248087</td>\n",
       "    </tr>\n",
       "    <tr>\n",
       "      <th>9</th>\n",
       "      <td>9</td>\n",
       "      <td>Pena High School</td>\n",
       "      <td>Independent</td>\n",
       "      <td>962</td>\n",
       "      <td>585858</td>\n",
       "    </tr>\n",
       "    <tr>\n",
       "      <th>10</th>\n",
       "      <td>10</td>\n",
       "      <td>Wright High School</td>\n",
       "      <td>Independent</td>\n",
       "      <td>1800</td>\n",
       "      <td>1049400</td>\n",
       "    </tr>\n",
       "    <tr>\n",
       "      <th>11</th>\n",
       "      <td>11</td>\n",
       "      <td>Rodriguez High School</td>\n",
       "      <td>Government</td>\n",
       "      <td>3999</td>\n",
       "      <td>2547363</td>\n",
       "    </tr>\n",
       "    <tr>\n",
       "      <th>12</th>\n",
       "      <td>12</td>\n",
       "      <td>Johnson High School</td>\n",
       "      <td>Government</td>\n",
       "      <td>4761</td>\n",
       "      <td>3094650</td>\n",
       "    </tr>\n",
       "    <tr>\n",
       "      <th>13</th>\n",
       "      <td>13</td>\n",
       "      <td>Ford High School</td>\n",
       "      <td>Government</td>\n",
       "      <td>2739</td>\n",
       "      <td>1763916</td>\n",
       "    </tr>\n",
       "    <tr>\n",
       "      <th>14</th>\n",
       "      <td>14</td>\n",
       "      <td>Thomas High School</td>\n",
       "      <td>Independent</td>\n",
       "      <td>1635</td>\n",
       "      <td>1043130</td>\n",
       "    </tr>\n",
       "  </tbody>\n",
       "</table>\n",
       "</div>"
      ],
      "text/plain": [
       "    School ID            school_name         type  size   budget\n",
       "0           0      Huang High School   Government  2917  1910635\n",
       "1           1   Figueroa High School   Government  2949  1884411\n",
       "2           2    Shelton High School  Independent  1761  1056600\n",
       "3           3  Hernandez High School   Government  4635  3022020\n",
       "4           4    Griffin High School  Independent  1468   917500\n",
       "5           5     Wilson High School  Independent  2283  1319574\n",
       "6           6    Cabrera High School  Independent  1858  1081356\n",
       "7           7     Bailey High School   Government  4976  3124928\n",
       "8           8     Holden High School  Independent   427   248087\n",
       "9           9       Pena High School  Independent   962   585858\n",
       "10         10     Wright High School  Independent  1800  1049400\n",
       "11         11  Rodriguez High School   Government  3999  2547363\n",
       "12         12    Johnson High School   Government  4761  3094650\n",
       "13         13       Ford High School   Government  2739  1763916\n",
       "14         14     Thomas High School  Independent  1635  1043130"
      ]
     },
     "execution_count": 35,
     "metadata": {},
     "output_type": "execute_result"
    }
   ],
   "source": [
    "school_data.head(15)"
   ]
  },
  {
   "cell_type": "code",
   "execution_count": 63,
   "id": "db8955e0-4923-4757-90e0-309580042919",
   "metadata": {
    "editable": true,
    "slideshow": {
     "slide_type": ""
    },
    "tags": []
   },
   "outputs": [],
   "source": [
    "# Calculate the Totals (Schools and Students)\n",
    "school_count = (school_data[\"School ID\"].max() + 1)\n",
    "student_count = (student_data[\"Student ID\"].max() + 1)\n",
    "\n",
    "# Calculate the Total Budget\n",
    "total_budget = school_data[\"budget\"].sum()\n"
   ]
  },
  {
   "cell_type": "code",
   "execution_count": 62,
   "id": "ad282555-4c12-4332-9617-c4859fb32c2b",
   "metadata": {
    "editable": true,
    "slideshow": {
     "slide_type": ""
    },
    "tags": []
   },
   "outputs": [
    {
     "data": {
      "text/plain": [
       "15"
      ]
     },
     "execution_count": 62,
     "metadata": {},
     "output_type": "execute_result"
    }
   ],
   "source": [
    "school_count"
   ]
  },
  {
   "cell_type": "code",
   "execution_count": 64,
   "id": "d77da288-fac7-45ad-b07c-df95d8e6559f",
   "metadata": {},
   "outputs": [
    {
     "data": {
      "text/plain": [
       "39170"
      ]
     },
     "execution_count": 64,
     "metadata": {},
     "output_type": "execute_result"
    }
   ],
   "source": [
    "student_count"
   ]
  },
  {
   "cell_type": "code",
   "execution_count": 46,
   "id": "8bbf915c-6f28-41ee-9000-31d623663c85",
   "metadata": {},
   "outputs": [
    {
     "data": {
      "text/plain": [
       "24649428"
      ]
     },
     "execution_count": 46,
     "metadata": {},
     "output_type": "execute_result"
    }
   ],
   "source": [
    "total_budget"
   ]
  },
  {
   "cell_type": "code",
   "execution_count": 41,
   "id": "13042184-c17b-4726-a54e-21da26b07980",
   "metadata": {
    "editable": true,
    "slideshow": {
     "slide_type": ""
    },
    "tags": []
   },
   "outputs": [],
   "source": [
    "# Calculate the Average Scores\n",
    "average_maths_score = school_data_complete[\"maths_score\"].mean()\n",
    "average_reading_score = school_data_complete[\"reading_score\"].mean()"
   ]
  },
  {
   "cell_type": "code",
   "execution_count": 42,
   "id": "dc88d7a8-072a-4c00-96b3-63d2fbf263a7",
   "metadata": {},
   "outputs": [
    {
     "data": {
      "text/plain": [
       "70.33819249425581"
      ]
     },
     "execution_count": 42,
     "metadata": {},
     "output_type": "execute_result"
    }
   ],
   "source": [
    "average_maths_score"
   ]
  },
  {
   "cell_type": "code",
   "execution_count": 43,
   "id": "21c4f80f-5133-4538-93e0-a55f1b8a260c",
   "metadata": {
    "editable": true,
    "slideshow": {
     "slide_type": ""
    },
    "tags": []
   },
   "outputs": [
    {
     "data": {
      "text/plain": [
       "69.98013786060761"
      ]
     },
     "execution_count": 43,
     "metadata": {},
     "output_type": "execute_result"
    }
   ],
   "source": [
    "average_reading_score"
   ]
  },
  {
   "cell_type": "code",
   "execution_count": 82,
   "id": "c5a6b30b-dbee-4165-9b83-eeeb9a13a5c2",
   "metadata": {
    "editable": true,
    "slideshow": {
     "slide_type": ""
    },
    "tags": []
   },
   "outputs": [],
   "source": [
    "# Calculate the Percentage Pass Rates\n",
    "passing_maths_count = school_data_complete[(school_data_complete[\"maths_score\"] >= 50)].count()[\"student_name\"]\n",
    "passing_maths_percentage = passing_maths_count / float(student_count) * 100\n",
    "passing_reading_count = school_data_complete[(school_data_complete[\"reading_score\"] >= 50)].count()[\"student_name\"]\n",
    "passing_reading_percentage = passing_reading_count / float(student_count) * 100\n",
    "\n",
    "passing_maths_reading_count = school_data_complete[(school_data_complete[\"maths_score\"] >= 50) &  \n",
    "                             (school_data_complete[\"reading_score\"] >= 50)].count()[\"student_name\"]\n",
    "\n",
    "overall_passing_rate = passing_maths_reading_count / float(student_count) * 100"
   ]
  },
  {
   "cell_type": "code",
   "execution_count": 56,
   "id": "04d6bb09-bf59-4706-9fd9-4d45264e12c4",
   "metadata": {},
   "outputs": [
    {
     "data": {
      "text/plain": [
       "numpy.int64"
      ]
     },
     "execution_count": 56,
     "metadata": {},
     "output_type": "execute_result"
    }
   ],
   "source": [
    " type(passing_maths_count)"
   ]
  },
  {
   "cell_type": "code",
   "execution_count": 57,
   "id": "f981e3e6-d78b-44e1-b725-5a6b47241f91",
   "metadata": {},
   "outputs": [
    {
     "data": {
      "text/plain": [
       "pandas.core.series.Series"
      ]
     },
     "execution_count": 57,
     "metadata": {},
     "output_type": "execute_result"
    }
   ],
   "source": [
    "type(student_count)"
   ]
  },
  {
   "cell_type": "code",
   "execution_count": 58,
   "id": "7eb34091-83f2-453d-960a-779771950e36",
   "metadata": {},
   "outputs": [
    {
     "data": {
      "text/plain": [
       "pandas.core.frame.DataFrame"
      ]
     },
     "execution_count": 58,
     "metadata": {},
     "output_type": "execute_result"
    }
   ],
   "source": [
    "type(school_data)"
   ]
  },
  {
   "cell_type": "code",
   "execution_count": 69,
   "id": "f0e54c5e-a85f-40ca-b6d5-edec312a6654",
   "metadata": {},
   "outputs": [
    {
     "data": {
      "text/plain": [
       "33717"
      ]
     },
     "execution_count": 69,
     "metadata": {},
     "output_type": "execute_result"
    }
   ],
   "source": [
    "passing_maths_count"
   ]
  },
  {
   "cell_type": "code",
   "execution_count": 70,
   "id": "48971e5a-5e94-48d5-af62-49213a028a8a",
   "metadata": {},
   "outputs": [
    {
     "data": {
      "text/plain": [
       "86.07863160582077"
      ]
     },
     "execution_count": 70,
     "metadata": {},
     "output_type": "execute_result"
    }
   ],
   "source": [
    "passing_maths_percentage"
   ]
  },
  {
   "cell_type": "code",
   "execution_count": 71,
   "id": "ff74a756-c8f0-4594-aec7-89879888f7ab",
   "metadata": {},
   "outputs": [
    {
     "data": {
      "text/plain": [
       "33070"
      ]
     },
     "execution_count": 71,
     "metadata": {},
     "output_type": "execute_result"
    }
   ],
   "source": [
    "passing_reading_count"
   ]
  },
  {
   "cell_type": "code",
   "execution_count": 74,
   "id": "fab51b1a-1c47-4c59-8ebd-52dfde1dd5f0",
   "metadata": {},
   "outputs": [
    {
     "data": {
      "text/plain": [
       "84.42685728874139"
      ]
     },
     "execution_count": 74,
     "metadata": {},
     "output_type": "execute_result"
    }
   ],
   "source": [
    "passing_reading_percentage"
   ]
  },
  {
   "cell_type": "code",
   "execution_count": 83,
   "id": "637119f3-a710-4ec3-9680-67113c930f11",
   "metadata": {},
   "outputs": [
    {
     "data": {
      "text/plain": [
       "28519"
      ]
     },
     "execution_count": 83,
     "metadata": {},
     "output_type": "execute_result"
    }
   ],
   "source": [
    "passing_maths_reading_count"
   ]
  },
  {
   "cell_type": "code",
   "execution_count": 84,
   "id": "1abbdc15-2335-45cf-a199-9d9f20e2b099",
   "metadata": {},
   "outputs": [
    {
     "data": {
      "text/plain": [
       "72.80827163645647"
      ]
     },
     "execution_count": 84,
     "metadata": {},
     "output_type": "execute_result"
    }
   ],
   "source": [
    "overall_passing_rate"
   ]
  },
  {
   "cell_type": "code",
   "execution_count": null,
   "id": "326c9b00-d8fb-4a44-8f19-777ae78ff911",
   "metadata": {},
   "outputs": [],
   "source": []
  }
 ],
 "metadata": {
  "kernelspec": {
   "display_name": "Python 3 (ipykernel)",
   "language": "python",
   "name": "python3"
  },
  "language_info": {
   "codemirror_mode": {
    "name": "ipython",
    "version": 3
   },
   "file_extension": ".py",
   "mimetype": "text/x-python",
   "name": "python",
   "nbconvert_exporter": "python",
   "pygments_lexer": "ipython3",
   "version": "3.10.13"
  }
 },
 "nbformat": 4,
 "nbformat_minor": 5
}
